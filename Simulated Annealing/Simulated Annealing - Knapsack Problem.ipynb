{
 "cells": [
  {
   "cell_type": "markdown",
   "metadata": {},
   "source": [
    "# Simulated Annealing \n",
    "\n",
    "## 1.\n",
    "Solve for the Knapsack Problem using simulated annealing: given a finite amount of objects in wich each one has a wieght and value. Find the subset of objects that can be introduced to the backpack maximizing the value of the objects and minimizing the weight. \n",
    "\n",
    "The input format will be perceibed as:\n",
    "\n",
    "**Example**\n",
    "\n",
    "100 0.1 ---> Initial and final temperature\n",
    "\n",
    "5 ----> amount of objects\n",
    "\n",
    "15 ----> maximum capacity C of the knapsack\n",
    "\n",
    "5 2 ---> (value of object, weight of object)\n",
    "\n",
    "14 3\n",
    "\n",
    "7 7\n",
    "\n",
    "2 5\n",
    "\n",
    "23 10\n",
    "\n",
    "## 2. \n",
    "Get:\n",
    "1. Best solution considering M executions: (list of objects, binary string, f-value)\n",
    "2. Worst solution considering M executions: (list of objects, binary string, f-value)\n",
    "3. Solution of the median of the M executions: (list of objects, binary string, f-value)\n",
    "4. Mean f-value considering M executions\n",
    "5. Standard deviation of target function considering the M executions\n",
    "\n",
    "\n",
    "## Bonus: \n",
    "Change the Simulated Annealing Design and try to make it better. "
   ]
  },
  {
   "cell_type": "code",
   "execution_count": 300,
   "metadata": {},
   "outputs": [],
   "source": [
    "import random\n",
    "from math import exp\n",
    "import statistics\n",
    "import math\n",
    "import numpy as np"
   ]
  },
  {
   "cell_type": "code",
   "execution_count": 239,
   "metadata": {},
   "outputs": [],
   "source": [
    "def g(x,w,c):\n",
    "    #Returning the constraint value and it it is bellow or equal the constraint.\n",
    "    flag = True\n",
    "    g = 0\n",
    "    \n",
    "    for i in range(len(x)):\n",
    "        if g<=c:\n",
    "            g += (x[i]*w[i])\n",
    "            if g>c:\n",
    "                flag = False\n",
    "                return g, flag\n",
    "        else:\n",
    "            flag = False   \n",
    "            return g, flag\n",
    "    return g,flag"
   ]
  },
  {
   "cell_type": "code",
   "execution_count": 107,
   "metadata": {},
   "outputs": [
    {
     "name": "stdout",
     "output_type": "stream",
     "text": [
      "(9, False)\n"
     ]
    },
    {
     "data": {
      "text/plain": [
       "[1, 1, 1, 0, 0]"
      ]
     },
     "execution_count": 107,
     "metadata": {},
     "output_type": "execute_result"
    }
   ],
   "source": [
    "print(g(x0, [4,5,3,2,1],6))\n",
    "x0"
   ]
  },
  {
   "cell_type": "code",
   "execution_count": 2,
   "metadata": {},
   "outputs": [],
   "source": [
    "def T(t):\n",
    "    return 0.99*t"
   ]
  },
  {
   "cell_type": "code",
   "execution_count": 63,
   "metadata": {},
   "outputs": [],
   "source": [
    "def X_0(W, C):\n",
    "    x = [0 for i in range(len(W))]\n",
    "    g = 0\n",
    "    indices = [i for i in range(len(W))]\n",
    "    \n",
    "    while g<=C:\n",
    "        aux = random.choice(indices) #choosing wich element will be in the backpack\n",
    "        indices.remove(aux) #don't want infinite loops. Once in, you can't take it out of the backpack\n",
    "        x[aux] = 1\n",
    "        aux2 = g + W[aux]\n",
    "        if aux2 <=C: #Check that it only adds if I get less than C \n",
    "            g += W[aux]\n",
    "        else:\n",
    "            break\n",
    "    return x"
   ]
  },
  {
   "cell_type": "code",
   "execution_count": 64,
   "metadata": {},
   "outputs": [
    {
     "data": {
      "text/plain": [
       "[0, 0, 0, 1, 1]"
      ]
     },
     "execution_count": 64,
     "metadata": {},
     "output_type": "execute_result"
    }
   ],
   "source": [
    "x0 = X_0([0,1,2,3,4],6)\n",
    "x0"
   ]
  },
  {
   "cell_type": "code",
   "execution_count": 118,
   "metadata": {},
   "outputs": [],
   "source": [
    "def N(X, W, C):\n",
    "    #Returning neighborhood with only feasible neighbors.\n",
    "    N = []\n",
    "    Vecindario = []\n",
    "    for i in range(len(X)):\n",
    "        Vecindario.append(X.copy()) #I don't want to modify my solution\n",
    "\n",
    "    for i in range(len(Vecindario)): #Generating the whole neighborhood\n",
    "        get_ele = Vecindario[i][i]\n",
    "        if get_ele == 0:\n",
    "            Vecindario[i][i] = 1\n",
    "        elif get_ele == 1:\n",
    "            Vecindario[i][i] = 0\n",
    "            \n",
    "    for i in Vecindario: \n",
    "        #Just taking the legal options for the constraint. \n",
    "        #This part is what ensures me that I will only have real and feasible answers\n",
    "        G, flag = g(i,W,C)\n",
    "        if flag == True:\n",
    "            N.append(i)\n",
    "    return N"
   ]
  },
  {
   "cell_type": "code",
   "execution_count": 119,
   "metadata": {},
   "outputs": [
    {
     "data": {
      "text/plain": [
       "[[0, 1, 1, 0, 0], [1, 0, 1, 0, 0], [1, 1, 0, 0, 0]]"
      ]
     },
     "execution_count": 119,
     "metadata": {},
     "output_type": "execute_result"
    }
   ],
   "source": [
    "N(x0, [1,2,3,4,5],6)"
   ]
  },
  {
   "cell_type": "code",
   "execution_count": 116,
   "metadata": {},
   "outputs": [
    {
     "data": {
      "text/plain": [
       "[1, 1, 1, 0, 0]"
      ]
     },
     "execution_count": 116,
     "metadata": {},
     "output_type": "execute_result"
    }
   ],
   "source": [
    "x0"
   ]
  },
  {
   "cell_type": "code",
   "execution_count": 262,
   "metadata": {},
   "outputs": [],
   "source": [
    "def Simulated_annealing(temp, X, C):\n",
    "    def f(x, p): #This had to go in: Python was having trouble reading it outside\n",
    "        f = 0\n",
    "        for i in range(len(x)):\n",
    "            f += (p[i]*x[i])   \n",
    "        return f\n",
    "    \n",
    "    \n",
    "    tempera = temp[0]\n",
    "    #t = 0 ---> could be used to change the Temperature function.\n",
    "    values = [i[0] for i in X]\n",
    "    weights = [i[1] for i in X]\n",
    "    \n",
    "    x0 = X_0(weights, C)\n",
    "    xbest = x0\n",
    "    fbest = f(x0,values)\n",
    "    \n",
    "    def auxiliar_exp(selec,fbest, temperatura): \n",
    "        #this is for theconditional inside the loop\n",
    "        num = 0-(selec - fbest)\n",
    "        den = T(temperatura)\n",
    "        return exp(num/den)\n",
    "    \n",
    "    while tempera > temp[1]:\n",
    "        neig = N(x0,weights,C) #Generating feasible neighbors\n",
    "        selec = random.choice(neig) #Choosing a random neighbor\n",
    "        if f(selec,values) <= fbest:\n",
    "            xbest = selec\n",
    "            fbest = f(selec,values) \n",
    "        else:\n",
    "            if random.choice([0,1]) < auxiliar_exp(f(selec,values),fbest,tempera):\n",
    "                xbest = selec \n",
    "                fbest = f(selec,values)\n",
    "        tempera = T(tempera)\n",
    "        #t += 1\n",
    "    \n",
    "    G,flag = g(xbest,weights,C)\n",
    "    return xbest,fbest, G"
   ]
  },
  {
   "cell_type": "code",
   "execution_count": 248,
   "metadata": {},
   "outputs": [
    {
     "name": "stdout",
     "output_type": "stream",
     "text": [
      "[1, 0, 0, 1, 1]\n"
     ]
    },
    {
     "data": {
      "text/plain": [
       "([1, 0, 0, 1, 0], 7.0, 7.0)"
      ]
     },
     "execution_count": 248,
     "metadata": {},
     "output_type": "execute_result"
    }
   ],
   "source": [
    "Simulated_annealing([1000,0.1], [[5.0, 2.0],[14.0,3.0],[7.0,7.0],[2.0,5.0],[23.0,10.0]],15.0)"
   ]
  },
  {
   "cell_type": "code",
   "execution_count": 237,
   "metadata": {},
   "outputs": [],
   "source": [
    "def representation(X):\n",
    "    #Generating the string asociated to the list of objects\n",
    "    #Returns a list of the objects that are inside the knapsack\n",
    "    cadena = \"\"\n",
    "    posiciones = []\n",
    "    for i in range(len(X)):\n",
    "        cadena += str(X[i])\n",
    "        if X[i] ==1:\n",
    "            posiciones.append(i)\n",
    "    return cadena, posiciones "
   ]
  },
  {
   "cell_type": "code",
   "execution_count": 205,
   "metadata": {},
   "outputs": [
    {
     "data": {
      "text/plain": [
       "('01001', [1, 4])"
      ]
     },
     "execution_count": 205,
     "metadata": {},
     "output_type": "execute_result"
    }
   ],
   "source": [
    "representation([0, 1, 0, 0, 1])"
   ]
  },
  {
   "cell_type": "markdown",
   "metadata": {},
   "source": [
    "# Part one: just visualizing\n",
    "\n",
    "Print the solution with format:\n",
    "\n",
    "list_of_positions string_of_solution\n",
    "F-score\n",
    "G-Score"
   ]
  },
  {
   "cell_type": "code",
   "execution_count": 291,
   "metadata": {},
   "outputs": [],
   "source": [
    "def Printing(Temperature, Data, Max_C):\n",
    "    Xbest, fbest, G = Simulated_annealing(Temperature, Data, Max_C)\n",
    "    String, Positions = representation(Xbest)\n",
    "    \n",
    "    print(Positions, String)\n",
    "    print(fbest)\n",
    "    print(G)\n",
    "    \n",
    "    return Positions, String, fbest, G"
   ]
  },
  {
   "cell_type": "code",
   "execution_count": 292,
   "metadata": {},
   "outputs": [
    {
     "name": "stdout",
     "output_type": "stream",
     "text": [
      "[0, 1, 2] 11100\n",
      "26.0\n",
      "12.0\n"
     ]
    },
    {
     "data": {
      "text/plain": [
       "([0, 1, 2], '11100', 26.0, 12.0)"
      ]
     },
     "execution_count": 292,
     "metadata": {},
     "output_type": "execute_result"
    }
   ],
   "source": [
    "Printing([1000,0.1], [[5.0, 2.0],[14.0,3.0],[7.0,7.0],[2.0,5.0],[23.0,10.0]],15.0)"
   ]
  },
  {
   "cell_type": "markdown",
   "metadata": {},
   "source": [
    "# Part two:\n",
    "\n",
    "Implement the M exections of your algorithm to solve an instance of the problem stored in a file with the parameters shown at the beginning. "
   ]
  },
  {
   "cell_type": "code",
   "execution_count": 314,
   "metadata": {},
   "outputs": [
    {
     "name": "stdout",
     "output_type": "stream",
     "text": [
      "Filename: test2.txt\n",
      "M executions: 5\n",
      "Best solution in  5  iterations: \n",
      "Objects: [0, 1, 4] String: 11001 \n",
      " Value of F and G respectively:  42.0 15.0\n",
      "\n",
      "\n",
      "Worst solution in  5  iterations: \n",
      "Objects: [1, 3] String: 01010 \n",
      " Value of F and G respectively:  16.0 8.0\n",
      "\n",
      "\n",
      "Solution of median in:  5  iterations \n",
      "Objects: [1, 4] String: 01001 \n",
      " Value of F and G respectively:  37.0 13.0\n",
      "\n",
      "\n",
      "Mean solution of target function:  28.4\n",
      "\n",
      "\n",
      "Standard deviation of target function:  9.728309205612248\n"
     ]
    }
   ],
   "source": [
    "if __name__=='__main__':\n",
    "    filename = str(input(\"Filename: \"))\n",
    "    M = int(input(\"M executions: \"))\n",
    "    \n",
    "    def Read(filename):\n",
    "        file1 = open(filename, 'r')\n",
    "        Lines = file1.readlines()\n",
    "        \n",
    "        temperaturas = list(map(float,Lines[0].split())) #Temperature\n",
    "        Objetos = int(Lines[1]) #Amount of objects\n",
    "        Capacidad = float(Lines[2]) #Max knapsack capacity\n",
    "        A = []\n",
    "        for i in range(3, Objetos+3): #skipping the first three lines read\n",
    "            A.append((list(map(float,Lines[i].split()))))\n",
    "        return temperaturas, Capacidad, A\n",
    "    \n",
    "    temperaturas, Capacidad, Datos = Read(filename)\n",
    "    \n",
    "    solutions = {}\n",
    "    for i in range(M):\n",
    "        x, f, G = Simulated_annealing(temperaturas, Datos, Capacidad)\n",
    "        X, posiciones= representation(x)\n",
    "        solutions[X] = [f,G, posiciones]\n",
    "    \n",
    "    G_values = [i[1] for i in solutions.values()]\n",
    "    F_values = [i[0] for i in solutions.values()]\n",
    "    Position_answers = [i[2] for i in solutions.values()]\n",
    "    Strings = [i for i in solutions.keys()]\n",
    "    \n",
    "    #This has to be first: point 1,2 and 3 need sorting the dictionary\n",
    "    median_key = math.ceil(statistics.median([i for i in range(M)]))\n",
    "    Median = [G_values[median_key],F_values[median_key], Position_answers[median_key],Strings[median_key]]\n",
    "    \n",
    "    mean_F = sum(F_values)/float(M)\n",
    "    standard_deviations_F = np.std(np.array(F_values))\n",
    "    \n",
    "    Solutions_sorted = sorted(solutions.items(), key=lambda x: x[1])   \n",
    "    Best_solution = Solutions_sorted[-1]\n",
    "    Worst_solution = Solutions_sorted[0]\n",
    "    \n",
    "    print(\"Best solution in \", M, \" iterations: \\nObjects:\", Best_solution[1][2], \n",
    "          \"String:\", Best_solution[0], \"\\n Value of F and G respectively: \", Best_solution[1][0], Best_solution[1][1])\n",
    "    print(\"\\n\")\n",
    "    print(\"Worst solution in \", M, \" iterations: \\nObjects:\", Worst_solution[1][2], \n",
    "          \"String:\", Worst_solution[0], \"\\n Value of F and G respectively: \", Worst_solution[1][0], Worst_solution[1][1])\n",
    "    print(\"\\n\")\n",
    "    print(\"Solution of median in: \", M, \" iterations \\nObjects:\", Median[2], \"String:\", Median[3], \n",
    "          \"\\n Value of F and G respectively: \", Median[1], Median[0])\n",
    "    print(\"\\n\")\n",
    "    print(\"Mean solution of target function: \", mean_F)\n",
    "    print(\"\\n\")\n",
    "    print(\"Standard deviation of target function: \", standard_deviations_F)  \n",
    "\n",
    "    "
   ]
  },
  {
   "cell_type": "code",
   "execution_count": null,
   "metadata": {},
   "outputs": [],
   "source": []
  }
 ],
 "metadata": {
  "kernelspec": {
   "display_name": "Python 3",
   "language": "python",
   "name": "python3"
  },
  "language_info": {
   "codemirror_mode": {
    "name": "ipython",
    "version": 3
   },
   "file_extension": ".py",
   "mimetype": "text/x-python",
   "name": "python",
   "nbconvert_exporter": "python",
   "pygments_lexer": "ipython3",
   "version": "3.8.5"
  }
 },
 "nbformat": 4,
 "nbformat_minor": 4
}
